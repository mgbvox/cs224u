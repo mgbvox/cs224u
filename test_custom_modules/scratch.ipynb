{
 "cells": [
  {
   "cell_type": "code",
   "execution_count": 4,
   "id": "initial_id",
   "metadata": {
    "collapsed": true,
    "ExecuteTime": {
     "end_time": "2024-02-18T14:05:34.840580Z",
     "start_time": "2024-02-18T14:05:34.838813Z"
    }
   },
   "outputs": [],
   "source": [
    "from huggingface_hub import HfApi, ModelFilter\n",
    "from transformers import AutoTokenizer\n",
    "\n",
    "from custom_models.sentiment.mixture_of_experts import Expert"
   ]
  },
  {
   "cell_type": "code",
   "outputs": [
    {
     "name": "stdout",
     "output_type": "stream",
     "text": [
      "asdf\n",
      "asdf\n"
     ]
    }
   ],
   "source": [
    "hf = HfApi()\n",
    "models = hf.list_models(\n",
    "    filter=ModelFilter(\n",
    "        task=\"text-classification\",\n",
    "        library=\"pytorch\",\n",
    "    ),\n",
    "    limit=100,\n",
    ")\n",
    "\n",
    "for model in models:\n",
    "    print(\"asdf\")"
   ],
   "metadata": {
    "collapsed": false,
    "ExecuteTime": {
     "end_time": "2024-02-18T14:09:13.699929Z",
     "start_time": "2024-02-18T14:09:13.641313Z"
    }
   },
   "id": "fb8fcbea02db887",
   "execution_count": 18
  },
  {
   "cell_type": "code",
   "outputs": [],
   "source": [
    "classifiers = list(\n",
    "    hf.list_models(\n",
    "        sort=\"downloads\",\n",
    "        direction=-1,\n",
    "        limit=50,\n",
    "        filter=ModelFilter(library=\"pytorch\", task=\"text-classification\"),\n",
    "    ),\n",
    ")"
   ],
   "metadata": {
    "collapsed": false,
    "ExecuteTime": {
     "end_time": "2024-02-18T14:15:02.246768Z",
     "start_time": "2024-02-18T14:15:01.864950Z"
    }
   },
   "id": "670909d69a4d378a",
   "execution_count": 29
  },
  {
   "cell_type": "code",
   "outputs": [
    {
     "data": {
      "text/plain": "['distilbert/distilbert-base-uncased-finetuned-sst-2-english',\n 'mrm8488/distilroberta-finetuned-financial-news-sentiment-analysis',\n 'lxyuan/distilbert-base-multilingual-cased-sentiments-student']"
     },
     "execution_count": 34,
     "metadata": {},
     "output_type": "execute_result"
    }
   ],
   "source": [
    "[c.id for c in classifiers][:3]"
   ],
   "metadata": {
    "collapsed": false,
    "ExecuteTime": {
     "end_time": "2024-02-18T14:16:27.227587Z",
     "start_time": "2024-02-18T14:16:27.225292Z"
    }
   },
   "id": "9be285de659fe5c8",
   "execution_count": 34
  },
  {
   "cell_type": "code",
   "outputs": [],
   "source": [
    "from transformers import AutoTokenizer\n",
    "from datasets import load_dataset"
   ],
   "metadata": {
    "collapsed": false,
    "ExecuteTime": {
     "end_time": "2024-02-18T18:03:18.476237Z",
     "start_time": "2024-02-18T18:03:16.690297Z"
    }
   },
   "id": "a40db055246479d6",
   "execution_count": 1
  },
  {
   "cell_type": "code",
   "outputs": [
    {
     "name": "stderr",
     "output_type": "stream",
     "text": [
      "/Users/mgb/miniforge3/envs/nlu/lib/python3.9/site-packages/huggingface_hub/repocard.py:105: UserWarning: Repo card metadata block was not found. Setting CardData to empty.\n",
      "  warnings.warn(\"Repo card metadata block was not found. Setting CardData to empty.\")\n"
     ]
    }
   ],
   "source": [
    "dynasent_r1 = load_dataset(\"dynabench/dynasent\", \"dynabench.dynasent.r1.all\")\n",
    "tok = AutoTokenizer.from_pretrained(\"prajjwal1/bert-mini\", use_fast=True)"
   ],
   "metadata": {
    "collapsed": false,
    "ExecuteTime": {
     "end_time": "2024-02-18T18:03:19.551541Z",
     "start_time": "2024-02-18T18:03:18.476969Z"
    }
   },
   "id": "72bbfcc51f38fcd9",
   "execution_count": 2
  },
  {
   "cell_type": "code",
   "outputs": [],
   "source": [
    "def tf(ex):\n",
    "    enc = tok.batch_encode_plus(\n",
    "        ex[\"sentence\"],\n",
    "        padding=True,\n",
    "        max_length=512,\n",
    "        truncation=True,\n",
    "        return_attention_mask=True,\n",
    "        return_tensors=\"pt\",\n",
    "    )\n",
    "    enc[\"foo\"] = \"hi\"\n",
    "    return enc\n",
    "\n",
    "\n",
    "dynasent_r1.set_transform(tf)"
   ],
   "metadata": {
    "collapsed": false,
    "ExecuteTime": {
     "end_time": "2024-02-18T18:16:48.077045Z",
     "start_time": "2024-02-18T18:16:48.065983Z"
    }
   },
   "id": "cfeb36629d8347a0",
   "execution_count": 13
  },
  {
   "cell_type": "code",
   "outputs": [
    {
     "data": {
      "text/plain": "{'input_ids': tensor([[  101, 18672,  2080,  1011,  7117,  2121,  2003,  2467,  2204,  2043,\n          2017,  2342,  2619,  2157,  2185,  1012,   102,     0,     0,     0,\n             0,     0,     0,     0,     0,     0,     0,     0,     0,     0,\n             0,     0,     0,     0,     0,     0,     0,     0,     0,     0,\n             0,     0,     0],\n        [  101,  2009,  1005,  1055,  2061,  4276,  1996,  3976,  1997,  9574,\n          2326,  2058, 14978,  2015,  1997,  2025,  2108,  2583,  2000, 10172,\n          2505,  1999,  1037,  2460,  3815,  1997,  2051,  2006,  1996,  4274,\n          2030, 19597,  2074,  5460,  1999,  2367,  4734,  2302, 17698,  2075,\n          7887,  1012,   102],\n        [  101,  1045,  2872,  2026,  2344,  1997,  1000, 15875, 10335,  1000,\n          2004,  2019, 10439, 20624,  6290,  1998,  1996,  1000,  4854,  7975,\n          1000,  2004,  2026,  4372, 13334,  1012,   102,     0,     0,     0,\n             0,     0,     0,     0,     0,     0,     0,     0,     0,     0,\n             0,     0,     0],\n        [  101,  2045,  2003, 10915, 27238,  5581,  1010,  2061,  2191,  2469,\n          2017,  2131,  2673,  2017,  2342,  2013,  1996,  2482,   999,   102,\n             0,     0,     0,     0,     0,     0,     0,     0,     0,     0,\n             0,     0,     0,     0,     0,     0,     0,     0,     0,     0,\n             0,     0,     0]]), 'token_type_ids': tensor([[0, 0, 0, 0, 0, 0, 0, 0, 0, 0, 0, 0, 0, 0, 0, 0, 0, 0, 0, 0, 0, 0, 0, 0,\n         0, 0, 0, 0, 0, 0, 0, 0, 0, 0, 0, 0, 0, 0, 0, 0, 0, 0, 0],\n        [0, 0, 0, 0, 0, 0, 0, 0, 0, 0, 0, 0, 0, 0, 0, 0, 0, 0, 0, 0, 0, 0, 0, 0,\n         0, 0, 0, 0, 0, 0, 0, 0, 0, 0, 0, 0, 0, 0, 0, 0, 0, 0, 0],\n        [0, 0, 0, 0, 0, 0, 0, 0, 0, 0, 0, 0, 0, 0, 0, 0, 0, 0, 0, 0, 0, 0, 0, 0,\n         0, 0, 0, 0, 0, 0, 0, 0, 0, 0, 0, 0, 0, 0, 0, 0, 0, 0, 0],\n        [0, 0, 0, 0, 0, 0, 0, 0, 0, 0, 0, 0, 0, 0, 0, 0, 0, 0, 0, 0, 0, 0, 0, 0,\n         0, 0, 0, 0, 0, 0, 0, 0, 0, 0, 0, 0, 0, 0, 0, 0, 0, 0, 0]]), 'attention_mask': tensor([[1, 1, 1, 1, 1, 1, 1, 1, 1, 1, 1, 1, 1, 1, 1, 1, 1, 0, 0, 0, 0, 0, 0, 0,\n         0, 0, 0, 0, 0, 0, 0, 0, 0, 0, 0, 0, 0, 0, 0, 0, 0, 0, 0],\n        [1, 1, 1, 1, 1, 1, 1, 1, 1, 1, 1, 1, 1, 1, 1, 1, 1, 1, 1, 1, 1, 1, 1, 1,\n         1, 1, 1, 1, 1, 1, 1, 1, 1, 1, 1, 1, 1, 1, 1, 1, 1, 1, 1],\n        [1, 1, 1, 1, 1, 1, 1, 1, 1, 1, 1, 1, 1, 1, 1, 1, 1, 1, 1, 1, 1, 1, 1, 1,\n         1, 1, 1, 0, 0, 0, 0, 0, 0, 0, 0, 0, 0, 0, 0, 0, 0, 0, 0],\n        [1, 1, 1, 1, 1, 1, 1, 1, 1, 1, 1, 1, 1, 1, 1, 1, 1, 1, 1, 1, 0, 0, 0, 0,\n         0, 0, 0, 0, 0, 0, 0, 0, 0, 0, 0, 0, 0, 0, 0, 0, 0, 0, 0]]), 'foo': 'hi'}"
     },
     "execution_count": 14,
     "metadata": {},
     "output_type": "execute_result"
    }
   ],
   "source": [
    "dynasent_r1[\"train\"][0:4]"
   ],
   "metadata": {
    "collapsed": false,
    "ExecuteTime": {
     "end_time": "2024-02-18T18:16:50.255555Z",
     "start_time": "2024-02-18T18:16:50.250030Z"
    }
   },
   "id": "d4b008e4bd3227de",
   "execution_count": 14
  },
  {
   "cell_type": "code",
   "outputs": [],
   "source": [],
   "metadata": {
    "collapsed": false
   },
   "id": "36edfd5d8772c94b"
  }
 ],
 "metadata": {
  "kernelspec": {
   "display_name": "Python 3",
   "language": "python",
   "name": "python3"
  },
  "language_info": {
   "codemirror_mode": {
    "name": "ipython",
    "version": 2
   },
   "file_extension": ".py",
   "mimetype": "text/x-python",
   "name": "python",
   "nbconvert_exporter": "python",
   "pygments_lexer": "ipython2",
   "version": "2.7.6"
  }
 },
 "nbformat": 4,
 "nbformat_minor": 5
}
